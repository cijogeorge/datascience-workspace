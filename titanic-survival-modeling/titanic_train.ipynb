{
 "cells": [
  {
   "cell_type": "markdown",
   "metadata": {},
   "source": [
    "# Predicting Survival on the Titanic: Training"
   ]
  },
  {
   "cell_type": "markdown",
   "metadata": {},
   "source": [
    "## Loading libraries and data"
   ]
  },
  {
   "cell_type": "code",
   "execution_count": 6,
   "metadata": {},
   "outputs": [
    {
     "data": {
      "text/plain": [
       "       X             Pclass           LastName     NameTitle       Sex     \n",
       " Min.   :  1.0   Min.   :1.000   Andersson:  9   Mr     :517   female:314  \n",
       " 1st Qu.:223.5   1st Qu.:2.000   Sage     :  7   Miss   :182   male  :577  \n",
       " Median :446.0   Median :3.000   Carter   :  6   Mrs    :125               \n",
       " Mean   :446.0   Mean   :2.309   Goodwin  :  6   Master : 40               \n",
       " 3rd Qu.:668.5   3rd Qu.:3.000   Johnson  :  6   Dr     :  7               \n",
       " Max.   :891.0   Max.   :3.000   Panula   :  6   Rev    :  6               \n",
       "                                 (Other)  :851   (Other): 14               \n",
       "      Age            SibSp           Parch            TktStr   \n",
       " Min.   : 0.00   Min.   :0.000   Min.   :0.0000   PC     : 60  \n",
       " 1st Qu.:22.00   1st Qu.:0.000   1st Qu.:0.0000   CA     : 41  \n",
       " Median :28.00   Median :0.000   Median :0.0000   A5     : 21  \n",
       " Mean   :29.35   Mean   :0.523   Mean   :0.3816   STONO2 : 18  \n",
       " 3rd Qu.:35.00   3rd Qu.:1.000   3rd Qu.:0.0000   SOTONOQ: 15  \n",
       " Max.   :80.00   Max.   :8.000   Max.   :6.0000   (Other): 75  \n",
       "                                                  NA's   :661  \n",
       "     TktNum             Fare           CabinStr      CabinNum     Embarked  \n",
       " Min.   :      3   Min.   :  0.00   C      : 59   Min.   :  2.0   C   :168  \n",
       " 1st Qu.:  14879   1st Qu.:  7.91   B      : 47   1st Qu.: 22.0   Q   : 77  \n",
       " Median : 112277   Median : 14.45   D      : 33   Median : 40.5   S   :644  \n",
       " Mean   : 298328   Mean   : 32.20   E      : 32   Mean   : 50.1   NA's:  2  \n",
       " 3rd Qu.: 347082   3rd Qu.: 31.00   A      : 15   3rd Qu.: 78.0             \n",
       " Max.   :3101317   Max.   :512.33   (Other): 18   Max.   :148.0             \n",
       " NA's   :4                          NA's   :687   NA's   :695               \n",
       " Survived \n",
       " No :549  \n",
       " Yes:342  \n",
       "          \n",
       "          \n",
       "          \n",
       "          \n",
       "          "
      ]
     },
     "metadata": {},
     "output_type": "display_data"
    }
   ],
   "source": [
    "## Load Libraries\n",
    "library(caret)\n",
    "#library(rattle)\n",
    "\n",
    "train_processed <- read.csv(\"data/processed_train.csv\")\n",
    "summary(train_processed)"
   ]
  },
  {
   "cell_type": "code",
   "execution_count": null,
   "metadata": {
    "collapsed": true
   },
   "outputs": [],
   "source": []
  },
  {
   "cell_type": "markdown",
   "metadata": {},
   "source": [
    "## Training"
   ]
  },
  {
   "cell_type": "code",
   "execution_count": 4,
   "metadata": {},
   "outputs": [
    {
     "data": {
      "text/html": [
       "<ol class=list-inline>\n",
       "\t<li>'Pclass'</li>\n",
       "\t<li>'NameTitle'</li>\n",
       "\t<li>'Sex'</li>\n",
       "\t<li>'Age'</li>\n",
       "\t<li>'SibSp'</li>\n",
       "\t<li>'Parch'</li>\n",
       "\t<li>'Fare'</li>\n",
       "</ol>\n"
      ],
      "text/latex": [
       "\\begin{enumerate*}\n",
       "\\item 'Pclass'\n",
       "\\item 'NameTitle'\n",
       "\\item 'Sex'\n",
       "\\item 'Age'\n",
       "\\item 'SibSp'\n",
       "\\item 'Parch'\n",
       "\\item 'Fare'\n",
       "\\end{enumerate*}\n"
      ],
      "text/markdown": [
       "1. 'Pclass'\n",
       "2. 'NameTitle'\n",
       "3. 'Sex'\n",
       "4. 'Age'\n",
       "5. 'SibSp'\n",
       "6. 'Parch'\n",
       "7. 'Fare'\n",
       "\n",
       "\n"
      ],
      "text/plain": [
       "[1] \"Pclass\"    \"NameTitle\" \"Sex\"       \"Age\"       \"SibSp\"     \"Parch\"    \n",
       "[7] \"Fare\"     "
      ]
     },
     "metadata": {},
     "output_type": "display_data"
    },
    {
     "name": "stderr",
     "output_type": "stream",
     "text": [
      "Loading required package: rpart\n",
      "Loading required package: randomForest\n",
      "randomForest 4.6-12\n",
      "Type rfNews() to see new features/changes/bug fixes.\n",
      "\n",
      "Attaching package: ‘randomForest’\n",
      "\n",
      "The following object is masked from ‘package:ggplot2’:\n",
      "\n",
      "    margin\n",
      "\n"
     ]
    },
    {
     "name": "stdout",
     "output_type": "stream",
     "text": [
      "CART \n",
      "\n",
      "891 samples\n",
      "  7 predictor\n",
      "  2 classes: 'No', 'Yes' \n",
      "\n",
      "No pre-processing\n",
      "Resampling: Cross-Validated (10 fold, repeated 10 times) \n",
      "Summary of sample sizes: 802, 801, 802, 802, 802, 802, ... \n",
      "Resampling results across tuning parameters:\n",
      "\n",
      "  cp          ROC        Sens       Spec     \n",
      "  0.01461988  0.8269919  0.8856364  0.7145546\n",
      "  0.05263158  0.7962869  0.8399293  0.7341849\n",
      "  0.46198830  0.6250221  0.8872795  0.3627647\n",
      "\n",
      "ROC was used to select the optimal model using  the largest value.\n",
      "The final value used for the model was cp = 0.01461988.\n",
      "Random Forest \n",
      "\n",
      "891 samples\n",
      "  7 predictor\n",
      "  2 classes: 'No', 'Yes' \n",
      "\n",
      "No pre-processing\n",
      "Resampling: Cross-Validated (10 fold, repeated 10 times) \n",
      "Summary of sample sizes: 802, 802, 802, 802, 803, 801, ... \n",
      "Resampling results across tuning parameters:\n",
      "\n",
      "  mtry  ROC        Sens       Spec     \n",
      "  2     0.8737214  0.8965556  0.7169496\n",
      "  4     0.8734474  0.8852694  0.7383109\n",
      "  7     0.8650716  0.8685017  0.7409328\n",
      "\n",
      "ROC was used to select the optimal model using  the largest value.\n",
      "The final value used for the model was mtry = 2.\n"
     ]
    }
   ],
   "source": [
    "## Define train dataset, predictors and class label\n",
    "trainData <- train_processed\n",
    "predictors <- c(\"Pclass\", \"NameTitle\", \"Sex\", \"Age\", \"SibSp\", \"Parch\", \"Fare\")\n",
    "                                                    \n",
    "predictors\n",
    "classLabel <- \"Survived\"\n",
    "\n",
    "## Train classifier\n",
    "fitControl <- trainControl (method = \"repeatedcv\", number = 10, repeats = 10, \n",
    "                            classProbs = TRUE, summaryFunction = twoClassSummary)\n",
    "\n",
    "fit.rpart <- train(trainData[,predictors], trainData[, classLabel], method = \"rpart\", \n",
    "             trControl = fitControl, metric = \"ROC\")\n",
    "\n",
    "fit.rf <- train(trainData[,predictors], trainData[, classLabel], method = \"rf\",\n",
    "             trControl = fitControl, metric = \"ROC\")\n",
    "\n",
    "## Print training results\n",
    "print(fit.rpart)\n",
    "\n",
    "#fancyRpartPlot(fit.rpart$finalModel)\n",
    "\n",
    "print(fit.rf)"
   ]
  }
 ],
 "metadata": {
  "kernelspec": {
   "display_name": "R",
   "language": "R",
   "name": "ir"
  },
  "language_info": {
   "codemirror_mode": "r",
   "file_extension": ".r",
   "mimetype": "text/x-r-source",
   "name": "R",
   "pygments_lexer": "r",
   "version": "3.4.1"
  }
 },
 "nbformat": 4,
 "nbformat_minor": 1
}
